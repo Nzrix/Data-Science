{
 "cells": [
  {
   "cell_type": "markdown",
   "metadata": {},
   "source": [
    "# Exercises: Basic Python (Questions)\n",
    "\n",
    "จงตอบคำถามดังต่อไปนี้  (ให้ใช้ method ตามที่กำหนดให้)"
   ]
  },
  {
   "cell_type": "markdown",
   "metadata": {},
   "source": [
    "**หาค่า 7 ยกกำลัง 4 ?**"
   ]
  },
  {
   "cell_type": "code",
   "execution_count": 3,
   "metadata": {},
   "outputs": [
    {
     "data": {
      "text/plain": [
       "2401"
      ]
     },
     "execution_count": 3,
     "metadata": {},
     "output_type": "execute_result"
    }
   ],
   "source": [
    "7 ** 4"
   ]
  },
  {
   "cell_type": "markdown",
   "metadata": {},
   "source": [
    "**Split this string:**\n",
    "\n",
    "    s = \"Hi there Sam!\"\n",
    "    \n",
    "**into a list. **"
   ]
  },
  {
   "cell_type": "code",
   "execution_count": 68,
   "metadata": {},
   "outputs": [],
   "source": [
    "s = 'Hi there Sam!'"
   ]
  },
  {
   "cell_type": "code",
   "execution_count": 70,
   "metadata": {},
   "outputs": [
    {
     "data": {
      "text/plain": [
       "['Hi', 'there', 'Sam!']"
      ]
     },
     "execution_count": 70,
     "metadata": {},
     "output_type": "execute_result"
    }
   ],
   "source": [
    "s.split()\n"
   ]
  },
  {
   "cell_type": "markdown",
   "metadata": {},
   "source": [
    "** กำหนดให้ variables:**\n",
    "\n",
    "    planet = \"Earth\"\n",
    "    diameter = 12742\n",
    "\n",
    "**  จง print ข้อความ string ดังต่อไปนี้ ด้วยคำสั่ง .format(): **\n",
    "\n",
    "    The diameter of Earth is 12742 kilometers."
   ]
  },
  {
   "cell_type": "code",
   "execution_count": 44,
   "metadata": {},
   "outputs": [],
   "source": [
    "planet = \"Earth\"\n",
    "diameter = 12742"
   ]
  },
  {
   "cell_type": "code",
   "execution_count": 64,
   "metadata": {},
   "outputs": [
    {
     "name": "stdout",
     "output_type": "stream",
     "text": [
      "The dimeter of Earth is 12742 kilometers.\n"
     ]
    }
   ],
   "source": [
    "print(\"The dimeter of {} is {} kilometers.\".format(planet, diameter))"
   ]
  },
  {
   "cell_type": "markdown",
   "metadata": {},
   "source": [
    "** จงใช้ความรู้เรื่อง indexing แล้ว print คำว่า \"hello\" จาก list ที่กำหนดให้ **"
   ]
  },
  {
   "cell_type": "code",
   "execution_count": 8,
   "metadata": {},
   "outputs": [],
   "source": [
    "lst = [1,2,[3,4],[5,[100,200,['hello']],23,11],1,7]"
   ]
  },
  {
   "cell_type": "code",
   "execution_count": 21,
   "metadata": {},
   "outputs": [
    {
     "data": {
      "text/plain": [
       "'hello'"
      ]
     },
     "execution_count": 21,
     "metadata": {},
     "output_type": "execute_result"
    }
   ],
   "source": [
    "lst[3][1][2][0]"
   ]
  },
  {
   "cell_type": "markdown",
   "metadata": {},
   "source": [
    "** จง print คำว่า hello\" จาก dictionary ที่กำหนดให้ **"
   ]
  },
  {
   "cell_type": "code",
   "execution_count": 27,
   "metadata": {},
   "outputs": [],
   "source": [
    "d = {'k1':[1,2,3,{'tricky':['oh','man','inception',{'target':[1,2,3,'hello']}]}] , 'k2': 45}"
   ]
  },
  {
   "cell_type": "code",
   "execution_count": 42,
   "metadata": {},
   "outputs": [
    {
     "data": {
      "text/plain": [
       "'hello'"
      ]
     },
     "execution_count": 42,
     "metadata": {},
     "output_type": "execute_result"
    }
   ],
   "source": [
    "d['k1'][3]['tricky'][3]['target'][3]"
   ]
  },
  {
   "cell_type": "markdown",
   "metadata": {},
   "source": [
    "** จง Comment บอกข้อแตกต่างหลักๆระหว่าง tuple และ list **"
   ]
  },
  {
   "cell_type": "code",
   "execution_count": 37,
   "metadata": {},
   "outputs": [],
   "source": [
    "# tuple แก้ค่าข้อมูลไม่ได้  \n",
    "# list แก้ค่าข้อมูลได้"
   ]
  },
  {
   "cell_type": "markdown",
   "metadata": {},
   "source": [
    "** จงสร้าง function ที่ทำหน้าที่กำหนด website domain ด้วนการ input email ที่เป็นตัวแปรประเภท string หรือข้อความในรูปแบบดังต้อไปนี้: **\n",
    "\n",
    "    user@domain.com\n",
    "    \n",
    "**Example, ให้ค่า input คือ \"user@domain.com\" จากนั้นให้ return \"domain.com\" ออกมา**"
   ]
  },
  {
   "cell_type": "code",
   "execution_count": 91,
   "metadata": {},
   "outputs": [],
   "source": [
    "def domainGet(st):\n",
    "   a = st.split('@')\n",
    "   return(a[-1])"
   ]
  },
  {
   "cell_type": "code",
   "execution_count": 92,
   "metadata": {},
   "outputs": [
    {
     "data": {
      "text/plain": [
       "'domain.com'"
      ]
     },
     "execution_count": 92,
     "metadata": {},
     "output_type": "execute_result"
    }
   ],
   "source": [
    "domainGet('user@domain.com')"
   ]
  },
  {
   "cell_type": "markdown",
   "metadata": {},
   "source": [
    "** จงสร้าง function ที่ทำหน้านี้ returns ค่า Boolean ถ้าเจอคำว่า 'dog' ใน input string ให้ return True นอกนั้น False โดยจะต้องไม่มี punctuation ติดอยู่กับคำว่า dog ได้ แต่ว่าเป็นอักษร พิมพ์ใหญ่ หรือ พิมพ์เล็กก็ได้ **"
   ]
  },
  {
   "cell_type": "code",
   "execution_count": 79,
   "metadata": {},
   "outputs": [],
   "source": [
    "def findDog(st):\n",
    "  return 'dog' in st.lower().split()"
   ]
  },
  {
   "cell_type": "code",
   "execution_count": 85,
   "metadata": {},
   "outputs": [
    {
     "data": {
      "text/plain": [
       "True"
      ]
     },
     "execution_count": 85,
     "metadata": {},
     "output_type": "execute_result"
    }
   ],
   "source": [
    "findDog('Is there a dog here?')"
   ]
  },
  {
   "cell_type": "markdown",
   "metadata": {},
   "source": [
    "** จงสร้าง function ที่ return จำนวนของคำว่า \"dog\" ที่ปรากฏใน input ที่เป็น string ที่อักษร พิมพ์ใหญ่ หรือ พิมพ์เล็กก็ได้. **"
   ]
  },
  {
   "cell_type": "code",
   "execution_count": 1,
   "metadata": {},
   "outputs": [],
   "source": [
    "def countDog(cword):\n",
    "    c = 0\n",
    "    for word in cword.lower().split():\n",
    "        if word == 'dog':\n",
    "            c += 1\n",
    "    return c"
   ]
  },
  {
   "cell_type": "code",
   "execution_count": null,
   "metadata": {},
   "outputs": [],
   "source": [
    "countDog('This dog runs faster than the other Dog dude!')"
   ]
  },
  {
   "cell_type": "markdown",
   "metadata": {},
   "source": [
    "** ให้ใช้ lambda expressions และ ฟังก์ชั้น filter() เพื่อทำการ filter หรือตัดคำที่อยู่ใน list ที่ไม่ขึ้นต้นด้วยอักษร 's' ออก เช่น**\n",
    "\n",
    "    seq = ['soup','dog','salad','cat','great']\n",
    "\n",
    "**หลังจาก filter และจะต้องเป็นดังนี้**\n",
    "\n",
    "    ['soup','salad']"
   ]
  },
  {
   "cell_type": "code",
   "execution_count": 11,
   "metadata": {},
   "outputs": [],
   "source": [
    "seq = ['soup','dog','salad','cats','great']"
   ]
  },
  {
   "cell_type": "code",
   "execution_count": 20,
   "metadata": {},
   "outputs": [
    {
     "data": {
      "text/plain": [
       "['soup', 'salad']"
      ]
     },
     "execution_count": 20,
     "metadata": {},
     "output_type": "execute_result"
    }
   ],
   "source": []
  },
  {
   "cell_type": "markdown",
   "metadata": {},
   "source": [
    "** ให้สร้างฟังก์ชั่นตัดคำที่ไม่มีตัวอักษร 's' ออก  โดยใช้งานคู่กับฟังก์ชั่น filter() เพื่อทำการตัดคำใน list เช่น**\n",
    "\n",
    "seq = ['soup','dog','salad','cats','great']\n",
    "หลังจาก filter และจะต้องเป็นดังนี้\n",
    "\n",
    "['soup','salad','cats']"
   ]
  },
  {
   "cell_type": "code",
   "execution_count": 28,
   "metadata": {},
   "outputs": [],
   "source": [
    "seq = ['soup','dog','salad','cats','great']"
   ]
  },
  {
   "cell_type": "code",
   "execution_count": 29,
   "metadata": {},
   "outputs": [
    {
     "name": "stdout",
     "output_type": "stream",
     "text": [
      "['soup','salad','cats']\n"
     ]
    }
   ],
   "source": []
  },
  {
   "cell_type": "markdown",
   "metadata": {},
   "source": [
    "### Final Problem\n",
    "**จงเขียนโปรแกรมช่วยเจ้าหน้าที่ตำรวจคำนวณค่าปรับการในการตรวจจับผู้ที่ขับเร็วเกินกำหนด โดยให้ return ดังนี้**\n",
    "- return :  \"No ticket\" หากขับรถที่ความไม่เกิน 60 km/hr\n",
    "- return :  \"Small ticket\" หากขับรถที่ความเร็วเกินกว่า 60 km/hr แต่ไม่เกิน 80 km/hr\n",
    "- return :  \"Big ticket\"หากขับรถที่ความเร็วเกินกว่า 80 km/hr ขึ้นไป\n",
    "ในการตรวจจับความเร็วนี้ มีกฏอยู่ว่า ถ้าเป็นวันเกิดของผู้ขับ ความเร็วที่ตรวจจะต่ำกว่าความเป็นจริง 5 km/hr (parameter ในการระบุวันเกิด ให้ใช้ตัวแปรประเภท boolean)\n"
   ]
  },
  {
   "cell_type": "code",
   "execution_count": 2,
   "metadata": {},
   "outputs": [],
   "source": [
    "def caught_speeding (speed,bd) :\n",
    "    if bd == True :\n",
    "        speedbd = speed-5\n",
    "        if speedbd < 60 :\n",
    "            return('No ticket')\n",
    "        elif 60 < speedbd < 80:\n",
    "            return('Small ticket')\n",
    "        elif 80 < speedbd:\n",
    "            return('Big ticket')\n",
    "    elif bd == False :\n",
    "        if speed < 60 :\n",
    "            return('No ticket')\n",
    "        elif 60 < speed < 80:\n",
    "            return('Small ticket')\n",
    "        elif 80 < speed:\n",
    "            return('Big ticket')"
   ]
  },
  {
   "cell_type": "code",
   "execution_count": 47,
   "metadata": {},
   "outputs": [
    {
     "data": {
      "text/plain": [
       "'Small Ticket'"
      ]
     },
     "execution_count": 47,
     "metadata": {},
     "output_type": "execute_result"
    }
   ],
   "source": [
    "caught_speeding(81,True)"
   ]
  },
  {
   "cell_type": "code",
   "execution_count": 49,
   "metadata": {},
   "outputs": [
    {
     "data": {
      "text/plain": [
       "'Big Ticket'"
      ]
     },
     "execution_count": 49,
     "metadata": {},
     "output_type": "execute_result"
    }
   ],
   "source": [
    "caught_speeding(81,False)"
   ]
  },
  {
   "cell_type": "markdown",
   "metadata": {},
   "source": [
    "### ----- ภาวนามยปัญญา ปัญญาที่เกิดจากการลงมือทำ! -----"
   ]
  }
 ],
 "metadata": {
  "kernelspec": {
   "display_name": "Python 3",
   "language": "python",
   "name": "python3"
  },
  "language_info": {
   "codemirror_mode": {
    "name": "ipython",
    "version": 3
   },
   "file_extension": ".py",
   "mimetype": "text/x-python",
   "name": "python",
   "nbconvert_exporter": "python",
   "pygments_lexer": "ipython3",
   "version": "3.11.5"
  }
 },
 "nbformat": 4,
 "nbformat_minor": 1
}
